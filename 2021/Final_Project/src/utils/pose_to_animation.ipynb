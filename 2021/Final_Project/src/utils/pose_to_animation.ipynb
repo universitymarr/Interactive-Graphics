{
 "metadata": {
  "language_info": {
   "codemirror_mode": {
    "name": "ipython",
    "version": 3
   },
   "file_extension": ".py",
   "mimetype": "text/x-python",
   "name": "python",
   "nbconvert_exporter": "python",
   "pygments_lexer": "ipython3",
   "version": "3.7.4"
  },
  "orig_nbformat": 2,
  "kernelspec": {
   "name": "python3",
   "display_name": "Python 3.7.4 64-bit ('mqi': conda)"
  },
  "interpreter": {
   "hash": "96d339a776005ce39ababb453557d3c1048923f180672582f9474e5170f2ae6e"
  }
 },
 "nbformat": 4,
 "nbformat_minor": 2,
 "cells": [
  {
   "cell_type": "code",
   "execution_count": 61,
   "source": [
    "import os \n",
    "import json\n",
    "import numpy as np"
   ],
   "outputs": [],
   "metadata": {}
  },
  {
   "cell_type": "code",
   "execution_count": 62,
   "source": [
    "folder_in = './poses'\n",
    "folder_out = './exported_configs'"
   ],
   "outputs": [],
   "metadata": {}
  },
  {
   "cell_type": "code",
   "execution_count": 63,
   "source": [
    "if not os.path.isdir(folder_out):\n",
    "    os.makedirs(folder_out)"
   ],
   "outputs": [],
   "metadata": {}
  },
  {
   "cell_type": "code",
   "execution_count": 64,
   "source": [
    "def get_normalize_quaternion(dic):\n",
    "    x2 = np.power(dic['x'], 2)\n",
    "    y2 = np.power(dic['y'], 2)\n",
    "    z2 = np.power(dic['z'], 2)\n",
    "    w2 = np.power(dic['w'], 2)\n",
    "\n",
    "    norm = np.sqrt(x2+y2+z2+w2)\n",
    "    x_norm = dic['x']/norm\n",
    "    y_norm = dic['y']/norm\n",
    "    z_norm = dic['z']/norm\n",
    "    w_norm = dic['w']/norm\n",
    "\n",
    "    return {'w':w_norm, 'x':x_norm, 'y':y_norm, 'z':z_norm}\n",
    "    "
   ],
   "outputs": [],
   "metadata": {}
  },
  {
   "cell_type": "code",
   "execution_count": 65,
   "source": [
    "def convert_pose_part(key_part, poses_part, component):\n",
    "    res = {}\n",
    "\n",
    "    new_part_name = key_part.split(':')[1].lower()+'_'+component\n",
    "    if component == 'position':\n",
    "        res = poses_part[key_part]['location']\n",
    "    elif component == 'quaternion':\n",
    "        res = get_normalize_quaternion(poses_part[key_part]['rotation_quaternion'])\n",
    "    else:\n",
    "        print('ERROR')\n",
    "\n",
    "    return new_part_name, res"
   ],
   "outputs": [],
   "metadata": {}
  },
  {
   "cell_type": "code",
   "execution_count": 66,
   "source": [
    "def convert_pose(path_file_in, path_file_out):\n",
    "    file_in = open(path_file_in, 'r')\n",
    "    pose = json.load(file_in)\n",
    "\n",
    "    res = {}\n",
    "    for key in pose.keys():\n",
    "        if key == 'mixamorig:Hips':\n",
    "            name, dic = convert_pose_part(key, pose, 'position')\n",
    "            res[name] = dic       \n",
    "        \n",
    "        name, dic = convert_pose_part(key, pose, 'quaternion')\n",
    "        res[name] = dic\n",
    "    \n",
    "    f_out = open(path_file_out, 'w')\n",
    "    json.dump(res, f_out, indent=4)\n",
    "    f_out.close()"
   ],
   "outputs": [],
   "metadata": {}
  },
  {
   "cell_type": "code",
   "execution_count": 67,
   "source": [
    "files = sorted(os.listdir(folder_in))"
   ],
   "outputs": [],
   "metadata": {}
  },
  {
   "cell_type": "code",
   "execution_count": 68,
   "source": [
    "for file in files:\n",
    "    path_f_in = os.path.join(folder_in, file)\n",
    "    path_f_out = os.path.join(folder_out, file.replace('pose', 'config'))\n",
    "    convert_pose(path_f_in, path_f_out)"
   ],
   "outputs": [],
   "metadata": {}
  },
  {
   "cell_type": "code",
   "execution_count": 69,
   "source": [
    "def configs_as_array(config_folder, out_folder):\n",
    "    files = sorted(os.listdir(config_folder))\n",
    "    res = '[\\n'\n",
    "    for file in files:\n",
    "        print(file)\n",
    "        f_in = open(os.path.join(config_folder, file), 'r')\n",
    "        res += f_in.read() + ',\\n'\n",
    "        f_in.close()\n",
    "    res += ']\\n'\n",
    "\n",
    "    f_out = open(os.path.join(out_folder, 'ARRAY_CONFIG.txt'), 'w')\n",
    "    f_out.write(res)\n",
    "    f_out.close()"
   ],
   "outputs": [],
   "metadata": {}
  },
  {
   "cell_type": "code",
   "execution_count": 70,
   "source": [
    "configs_as_array(folder_out, '.')"
   ],
   "outputs": [
    {
     "output_type": "stream",
     "name": "stdout",
     "text": [
      "config_0001.json\n",
      "config_0002.json\n",
      "config_0003.json\n",
      "config_0004.json\n",
      "config_0005.json\n",
      "config_0006.json\n",
      "config_0007.json\n",
      "config_0008.json\n",
      "config_0009.json\n",
      "config_0010.json\n",
      "config_0011.json\n",
      "config_0012.json\n",
      "config_0013.json\n",
      "config_0014.json\n",
      "config_0015.json\n"
     ]
    }
   ],
   "metadata": {}
  }
 ]
}