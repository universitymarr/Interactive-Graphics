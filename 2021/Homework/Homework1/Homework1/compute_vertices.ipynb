{
 "metadata": {
  "language_info": {
   "codemirror_mode": {
    "name": "ipython",
    "version": 3
   },
   "file_extension": ".py",
   "mimetype": "text/x-python",
   "name": "python",
   "nbconvert_exporter": "python",
   "pygments_lexer": "ipython3",
   "version": "3.7.4"
  },
  "orig_nbformat": 2,
  "kernelspec": {
   "name": "python374jvsc74a57bd096d339a776005ce39ababb453557d3c1048923f180672582f9474e5170f2ae6e",
   "display_name": "Python 3.7.4 64-bit ('mqi': conda)"
  }
 },
 "nbformat": 4,
 "nbformat_minor": 2,
 "cells": [
  {
   "source": [
    "## Notebook used for computing the vertices of the pendrive"
   ],
   "cell_type": "markdown",
   "metadata": {}
  },
  {
   "cell_type": "code",
   "execution_count": 1,
   "metadata": {},
   "outputs": [],
   "source": [
    "import numpy as np\n",
    "\n",
    "scale = 0.5"
   ]
  },
  {
   "source": [
    "# PARAMETERS BODIES"
   ],
   "cell_type": "markdown",
   "metadata": {}
  },
  {
   "source": [
    "## Body 1 (case of the pendrive)"
   ],
   "cell_type": "markdown",
   "metadata": {}
  },
  {
   "cell_type": "code",
   "execution_count": 2,
   "metadata": {},
   "outputs": [],
   "source": [
    "# size of the rectangle:\n",
    "W1 = 1.5 * scale\n",
    "H1= 0.7 * scale\n",
    "D1 = 1 * scale"
   ]
  },
  {
   "source": [
    "## Body 2 v2 (sheild usb \\w holes)"
   ],
   "cell_type": "markdown",
   "metadata": {}
  },
  {
   "cell_type": "code",
   "execution_count": 3,
   "metadata": {},
   "outputs": [],
   "source": [
    "# size of the rectangle:\n",
    "W2 = 1.2 * scale\n",
    "H2 = 0.45 * scale\n",
    "D2 = 1.2 * scale"
   ]
  },
  {
   "cell_type": "code",
   "execution_count": 4,
   "metadata": {},
   "outputs": [],
   "source": [
    "SW1 = 0.2 * scale\n",
    "SW2 = 0.3 * scale\n",
    "SW_HOLE = 0.25 * scale\n",
    "\n",
    "SD = 0.5 * scale \n",
    "SD_HOLE = 0.2 * scale"
   ]
  },
  {
   "source": [
    "## Body 3 (usb pins)"
   ],
   "cell_type": "markdown",
   "metadata": {}
  },
  {
   "cell_type": "code",
   "execution_count": 5,
   "metadata": {},
   "outputs": [],
   "source": [
    "# size of the rectangle:\n",
    "W3 = 1.2 * scale\n",
    "H3 = 0.2 * scale\n",
    "D3 = 1.2 * scale"
   ]
  },
  {
   "source": [
    "# BARYCENTER"
   ],
   "cell_type": "markdown",
   "metadata": {}
  },
  {
   "cell_type": "code",
   "execution_count": 6,
   "metadata": {},
   "outputs": [],
   "source": [
    "ALPHA = np.array([W1/2, H1/2, -D1/2])\n",
    "BETA = np.array([(W1-W2)/2, (H1-H2)/2, D2])\n",
    "GAMMA = np.array([W3/2, H3/2, -D3/2])"
   ]
  },
  {
   "cell_type": "code",
   "execution_count": 7,
   "metadata": {},
   "outputs": [],
   "source": [
    "A1 = (-ALPHA-BETA-GAMMA)/2"
   ]
  },
  {
   "source": [
    "# VERTICIES"
   ],
   "cell_type": "markdown",
   "metadata": {}
  },
  {
   "cell_type": "code",
   "execution_count": 8,
   "metadata": {},
   "outputs": [],
   "source": [
    "REF_0 = A1"
   ]
  },
  {
   "source": [
    "## Body 1 (case of the pendrive)"
   ],
   "cell_type": "markdown",
   "metadata": {}
  },
  {
   "cell_type": "code",
   "execution_count": 9,
   "metadata": {},
   "outputs": [
    {
     "output_type": "stream",
     "name": "stdout",
     "text": [
      "/* a1 */ vec4(-0.375, -0.144, -0.025, 1),\n/* b1 */ vec4(-0.375, 0.206, -0.025, 1),\n/* c1 */ vec4(0.375, 0.206, -0.025, 1),\n/* d1 */ vec4(0.375, -0.144, -0.025, 1),\n/* e1 */ vec4(-0.375, -0.144, -0.525, 1),\n/* f1 */ vec4(-0.375, 0.206, -0.525, 1),\n/* g1 */ vec4(0.375, 0.206, -0.525, 1),\n/* h1 */ vec4(0.375, -0.144, -0.525, 1),\n"
     ]
    }
   ],
   "source": [
    "REF_1 = REF_0\n",
    "\n",
    "a1 = np.array(REF_1)\n",
    "b1 = a1+ [0, H1, 0]\n",
    "c1 = b1 + [W1,0,0]\n",
    "d1 = c1 + [0, -H1, 0]\n",
    "\n",
    "e1 = a1 + [0, 0, -D1]\n",
    "f1 = b1 + [0, 0, -D1]\n",
    "g1 = c1 + [0, 0, -D1]\n",
    "h1 = d1 + [0, 0, -D1]\n",
    "\n",
    "vertices = [a1, b1, c1, d1, e1, f1, g1, h1]\n",
    "vertices_name = ['a1', 'b1', 'c1', 'd1', 'e1', 'f1', 'g1', 'h1']\n",
    "\n",
    "# print in JS\n",
    "prefix = 'vec4('\n",
    "post = '),'\n",
    "w = 1 \n",
    "idx = 0\n",
    "for v in vertices:\n",
    "    #v = v*scale\n",
    "    pref = \"/* \" + vertices_name[idx] + \" */ \" + prefix\n",
    "    print(pref + str(round(v[0],3)) +', '+ str(round(v[1], 3)) + ', ' + str(round(v[2], 3)) + ', ' + str(w) + post)\n",
    "\n",
    "    idx+=1"
   ]
  },
  {
   "source": [
    "## Body 2 v2 (sheild usb \\w holes)"
   ],
   "cell_type": "markdown",
   "metadata": {}
  },
  {
   "cell_type": "code",
   "execution_count": 10,
   "metadata": {},
   "outputs": [
    {
     "output_type": "stream",
     "name": "stdout",
     "text": [
      "/* a2 */ vec4(-0.3, -0.081, 0.575, 1),\n/* b2 */ vec4(-0.3, 0.144, 0.575, 1),\n/* c2 */ vec4(0.3, 0.144, 0.575, 1),\n/* d2 */ vec4(0.3, -0.081, 0.575, 1),\n/* e2 */ vec4(-0.3, -0.081, -0.025, 1),\n/* f2 */ vec4(-0.3, 0.144, -0.025, 1),\n/* g2 */ vec4(0.3, 0.144, -0.025, 1),\n/* h2 */ vec4(0.3, -0.081, -0.025, 1),\n/* i2 */ vec4(-0.3, 0.144, 0.325, 1),\n/* j2 */ vec4(-0.2, 0.144, 0.325, 1),\n/* k2 */ vec4(-0.075, 0.144, 0.325, 1),\n/* l2 */ vec4(0.075, 0.144, 0.325, 1),\n/* m2 */ vec4(0.2, 0.144, 0.325, 1),\n/* n2 */ vec4(0.3, 0.144, 0.325, 1),\n/* o2 */ vec4(-0.3, 0.144, 0.225, 1),\n/* p2 */ vec4(-0.2, 0.144, 0.225, 1),\n/* q2 */ vec4(-0.075, 0.144, 0.225, 1),\n/* r2 */ vec4(0.075, 0.144, 0.225, 1),\n/* s2 */ vec4(0.2, 0.144, 0.225, 1),\n/* t2 */ vec4(0.3, 0.144, 0.225, 1),\n/* u2 */ vec4(-0.3, 0.019, 0.575, 1),\n/* v2 */ vec4(0.3, 0.019, 0.575, 1),\n"
     ]
    }
   ],
   "source": [
    "\n",
    "REF_2 = a1 + [(W1-W2)/2, (H1-H2)/2, D2]\n",
    "\n",
    "a2 = np.array(REF_2)\n",
    "b2 = a2 + [0, H2, 0]\n",
    "c2 = b2 + [W2,0,0]\n",
    "d2 = c2 + [0, -H2, 0]\n",
    "\n",
    "e2 = a2 + [0, 0, -D2]\n",
    "f2 = b2 + [0, 0, -D2]\n",
    "g2 = c2 + [0, 0, -D2]\n",
    "h2 = d2 + [0, 0, -D2]\n",
    "\n",
    "\n",
    "i2 = b2 + [0, 0, -SD]\n",
    "j2 = i2 + [SW1, 0, 0]\n",
    "k2 = j2 + [SW_HOLE, 0, 0]\n",
    "l2 = k2 + [SW2, 0, 0]\n",
    "m2 = l2 + [SW_HOLE, 0, 0]\n",
    "n2 = m2 + [SW1, 0, 0]\n",
    "\n",
    "o2 = i2 + [0, 0, -SD_HOLE]\n",
    "p2 = j2 + [0, 0, -SD_HOLE]\n",
    "q2 = k2 + [0, 0, -SD_HOLE]\n",
    "r2 = l2 + [0, 0, -SD_HOLE]\n",
    "s2 = m2 + [0, 0, -SD_HOLE]\n",
    "t2 = n2 + [0, 0, -SD_HOLE]\n",
    "\n",
    "u2 = a2 + [0, H3, 0] \n",
    "v2 = u2 + [W2,0,0]\n",
    "\n",
    "vertices = [a2, b2, c2, d2, e2, f2, g2, h2, i2, j2, k2, l2, m2, n2, o2, p2, q2, r2, s2, t2, u2, v2]\n",
    "vertices_name = ['a2', 'b2', 'c2', 'd2', 'e2', 'f2', 'g2', 'h2', 'i2', 'j2', 'k2', 'l2', 'm2', 'n2', 'o2', 'p2', 'q2', 'r2', 's2', 't2', 'u2', 'v2']\n",
    "\n",
    "# print in JS\n",
    "prefix = 'vec4('\n",
    "post = '),'\n",
    "w = 1 \n",
    "idx = 0\n",
    "for v in vertices:\n",
    "    #v = v*scale\n",
    "    pref = \"/* \" + vertices_name[idx] + \" */ \" + prefix\n",
    "    print(pref + str(round(v[0],3)) +', '+ str(round(v[1], 3)) + ', ' + str(round(v[2], 3)) + ', ' + str(w) + post)\n",
    "\n",
    "    idx+=1"
   ]
  },
  {
   "source": [
    "## Body 3 pins"
   ],
   "cell_type": "markdown",
   "metadata": {}
  },
  {
   "cell_type": "code",
   "execution_count": 11,
   "metadata": {},
   "outputs": [
    {
     "output_type": "stream",
     "name": "stdout",
     "text": [
      "/* a3 */ vec4(-0.3, -0.081, 0.575, 1),\n/* b3 */ vec4(-0.3, 0.019, 0.575, 1),\n/* c3 */ vec4(0.3, 0.019, 0.575, 1),\n/* d3 */ vec4(0.3, -0.081, 0.575, 1),\n/* e3 */ vec4(-0.3, -0.081, -0.025, 1),\n/* f3 */ vec4(-0.3, 0.019, -0.025, 1),\n/* g3 */ vec4(0.3, 0.019, -0.025, 1),\n/* h3 */ vec4(0.3, -0.081, -0.025, 1),\n"
     ]
    }
   ],
   "source": [
    "REF_3 = a2\n",
    "\n",
    "a3 = np.array(REF_2)\n",
    "b3 = a3 + [0, H3, 0]\n",
    "c3 = b3 + [W3,0,0]\n",
    "d3 = c3 + [0, -H3, 0]\n",
    "\n",
    "e3 = a3 + [0, 0, -D3]\n",
    "f3 = b3 + [0, 0, -D3]\n",
    "g3 = c3 + [0, 0, -D3]\n",
    "h3 = d3 + [0, 0, -D3]\n",
    "\n",
    "vertices = [a3, b3, c3, d3, e3, f3, g3, h3]\n",
    "\n",
    "vertices_name = ['a3', 'b3', 'c3', 'd3', 'e3', 'f3', 'g3', 'h3']\n",
    "\n",
    "# print in JS\n",
    "prefix = 'vec4('\n",
    "post = '),'\n",
    "w = 1 \n",
    "idx = 0\n",
    "for v in vertices:\n",
    "    #v = v*scale\n",
    "    pref = \"/* \" + vertices_name[idx] + \" */ \" + prefix\n",
    "    print(pref + str(round(v[0],3)) +', '+ str(round(v[1], 3)) + ', ' + str(round(v[2], 3)) + ', ' + str(w) + post)\n",
    "\n",
    "    idx+=1"
   ]
  },
  {
   "source": [
    "# CHECK BARYCENTER"
   ],
   "cell_type": "markdown",
   "metadata": {}
  },
  {
   "cell_type": "code",
   "execution_count": 12,
   "metadata": {},
   "outputs": [
    {
     "output_type": "execute_result",
     "data": {
      "text/plain": [
       "array([ 0.,  0., -0.])"
      ]
     },
     "metadata": {},
     "execution_count": 12
    }
   ],
   "source": [
    "BB1 = a1 + ALPHA\n",
    "BB3 = a1 + BETA + GAMMA\n",
    "\n",
    "BB = (BB1+BB3)/2\n",
    "BB.round(3)"
   ]
  },
  {
   "cell_type": "code",
   "execution_count": null,
   "metadata": {},
   "outputs": [],
   "source": []
  }
 ]
}